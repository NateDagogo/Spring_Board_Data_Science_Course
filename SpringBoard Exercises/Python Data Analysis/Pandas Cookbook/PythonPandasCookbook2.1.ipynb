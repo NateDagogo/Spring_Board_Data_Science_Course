{
 "cells": [
  {
   "cell_type": "markdown",
   "metadata": {},
   "source": [
    "# Chapter 2: Common Operations"
   ]
  },
  {
   "cell_type": "markdown",
   "metadata": {},
   "source": [
    "### 2.1 Problem. How can I sort in a DataFrame?"
   ]
  },
  {
   "cell_type": "markdown",
   "metadata": {},
   "source": [
    "#### 2.11 Review. DataFrame Object?\n",
    "\n",
    "The DataFrame data structure in Pandas is a two-dimensional labeled array."
   ]
  },
  {
   "cell_type": "markdown",
   "metadata": {},
   "source": [
    "![title](https://github.com/alfredessa/pdacookbook/raw/3c302c20be5695f1b7787e64fb7708fe96757339/images/df2.jpg)"
   ]
  },
  {
   "cell_type": "markdown",
   "metadata": {},
   "source": [
    "2.12 Import Pandas and Read .CSV of Major League Baseball Salaries"
   ]
  },
  {
   "cell_type": "code",
   "execution_count": 57,
   "metadata": {
    "collapsed": true
   },
   "outputs": [],
   "source": [
    "import pandas as pd\n",
    "import matplotlib.pyplot as plt\n",
    "%matplotlib inline"
   ]
  },
  {
   "cell_type": "code",
   "execution_count": 2,
   "metadata": {
    "collapsed": true
   },
   "outputs": [],
   "source": [
    "mlb = pd.read_csv('data/mlbsalaries.csv')"
   ]
  },
  {
   "cell_type": "code",
   "execution_count": 7,
   "metadata": {
    "collapsed": true
   },
   "outputs": [],
   "source": [
    "highest_paid_player = mlb.set_index('Salary')"
   ]
  },
  {
   "cell_type": "markdown",
   "metadata": {},
   "source": [
    "#### 2.13 Review: Use value_counts() method to identify unique values and corresponding counts"
   ]
  },
  {
   "cell_type": "code",
   "execution_count": 4,
   "metadata": {
    "collapsed": false
   },
   "outputs": [
    {
     "data": {
      "text/plain": [
       "1990    972\n",
       "1999    919\n",
       "2008    858\n",
       "2001    857\n",
       "2002    849\n",
       "2007    848\n",
       "1998    846\n",
       "2011    843\n",
       "2000    843\n",
       "2004    833\n",
       "2005    831\n",
       "2010    828\n",
       "2003    826\n",
       "2006    823\n",
       "2009    818\n",
       "1995    805\n",
       "1993    786\n",
       "1997    773\n",
       "1996    768\n",
       "1992    753\n",
       "1994    748\n",
       "1991    720\n",
       "1989    710\n",
       "1988    686\n",
       "Name: Year, dtype: int64"
      ]
     },
     "execution_count": 4,
     "metadata": {},
     "output_type": "execute_result"
    }
   ],
   "source": [
    "mlb.Year.value_counts()"
   ]
  },
  {
   "cell_type": "markdown",
   "metadata": {},
   "source": [
    "#### 2.14 Create a subset of mlb dataset for Year 2010"
   ]
  },
  {
   "cell_type": "code",
   "execution_count": 22,
   "metadata": {
    "collapsed": false
   },
   "outputs": [],
   "source": [
    "yr2010 = mlb[mlb.Year==2010]"
   ]
  },
  {
   "cell_type": "code",
   "execution_count": 26,
   "metadata": {
    "collapsed": true
   },
   "outputs": [],
   "source": [
    "yr2010 = yr2010.set_index('Player')"
   ]
  },
  {
   "cell_type": "code",
   "execution_count": 27,
   "metadata": {
    "collapsed": false
   },
   "outputs": [
    {
     "data": {
      "text/html": [
       "<div>\n",
       "<table border=\"1\" class=\"dataframe\">\n",
       "  <thead>\n",
       "    <tr style=\"text-align: right;\">\n",
       "      <th></th>\n",
       "      <th>Year</th>\n",
       "      <th>Salary</th>\n",
       "      <th>Position</th>\n",
       "      <th>Team</th>\n",
       "    </tr>\n",
       "    <tr>\n",
       "      <th>Player</th>\n",
       "      <th></th>\n",
       "      <th></th>\n",
       "      <th></th>\n",
       "      <th></th>\n",
       "    </tr>\n",
       "  </thead>\n",
       "  <tbody>\n",
       "    <tr>\n",
       "      <th>Torii Hunter</th>\n",
       "      <td>2010</td>\n",
       "      <td>18500000</td>\n",
       "      <td>Outfielder</td>\n",
       "      <td>Los Angeles Angels</td>\n",
       "    </tr>\n",
       "    <tr>\n",
       "      <th>Bobby Abreu</th>\n",
       "      <td>2010</td>\n",
       "      <td>9000000</td>\n",
       "      <td>Outfielder</td>\n",
       "      <td>Los Angeles Angels</td>\n",
       "    </tr>\n",
       "    <tr>\n",
       "      <th>Brian Fuentes</th>\n",
       "      <td>2010</td>\n",
       "      <td>9000000</td>\n",
       "      <td>Pitcher</td>\n",
       "      <td>Los Angeles Angels</td>\n",
       "    </tr>\n",
       "    <tr>\n",
       "      <th>Scott Kazmir</th>\n",
       "      <td>2010</td>\n",
       "      <td>8000000</td>\n",
       "      <td>Pitcher</td>\n",
       "      <td>Los Angeles Angels</td>\n",
       "    </tr>\n",
       "    <tr>\n",
       "      <th>Joel Pineiro</th>\n",
       "      <td>2010</td>\n",
       "      <td>8000000</td>\n",
       "      <td>Pitcher</td>\n",
       "      <td>Los Angeles Angels</td>\n",
       "    </tr>\n",
       "  </tbody>\n",
       "</table>\n",
       "</div>"
      ],
      "text/plain": [
       "               Year    Salary    Position                Team\n",
       "Player                                                       \n",
       "Torii Hunter   2010  18500000  Outfielder  Los Angeles Angels\n",
       "Bobby Abreu    2010   9000000  Outfielder  Los Angeles Angels\n",
       "Brian Fuentes  2010   9000000     Pitcher  Los Angeles Angels\n",
       "Scott Kazmir   2010   8000000     Pitcher  Los Angeles Angels\n",
       "Joel Pineiro   2010   8000000     Pitcher  Los Angeles Angels"
      ]
     },
     "execution_count": 27,
     "metadata": {},
     "output_type": "execute_result"
    }
   ],
   "source": [
    "yr2010.head()"
   ]
  },
  {
   "cell_type": "markdown",
   "metadata": {},
   "source": [
    "#### 2.15 Sort Operations"
   ]
  },
  {
   "cell_type": "code",
   "execution_count": 15,
   "metadata": {
    "collapsed": false
   },
   "outputs": [
    {
     "data": {
      "text/html": [
       "<div>\n",
       "<table border=\"1\" class=\"dataframe\">\n",
       "  <thead>\n",
       "    <tr style=\"text-align: right;\">\n",
       "      <th></th>\n",
       "      <th>Year</th>\n",
       "      <th>Salary</th>\n",
       "      <th>Position</th>\n",
       "      <th>Team</th>\n",
       "    </tr>\n",
       "    <tr>\n",
       "      <th>Player</th>\n",
       "      <th></th>\n",
       "      <th></th>\n",
       "      <th></th>\n",
       "      <th></th>\n",
       "    </tr>\n",
       "  </thead>\n",
       "  <tbody>\n",
       "    <tr>\n",
       "      <th>A.J. Burnett</th>\n",
       "      <td>2010</td>\n",
       "      <td>16500000</td>\n",
       "      <td>Pitcher</td>\n",
       "      <td>New York Yankees</td>\n",
       "    </tr>\n",
       "    <tr>\n",
       "      <th>A.J. Pierzynski</th>\n",
       "      <td>2010</td>\n",
       "      <td>6750000</td>\n",
       "      <td>Catcher</td>\n",
       "      <td>Chicago White Sox</td>\n",
       "    </tr>\n",
       "    <tr>\n",
       "      <th>Aaron Cook</th>\n",
       "      <td>2010</td>\n",
       "      <td>9625000</td>\n",
       "      <td>Pitcher</td>\n",
       "      <td>Colorado Rockies</td>\n",
       "    </tr>\n",
       "    <tr>\n",
       "      <th>Aaron Harang</th>\n",
       "      <td>2010</td>\n",
       "      <td>12500000</td>\n",
       "      <td>Pitcher</td>\n",
       "      <td>Cincinnati Reds</td>\n",
       "    </tr>\n",
       "    <tr>\n",
       "      <th>Aaron Heilman</th>\n",
       "      <td>2010</td>\n",
       "      <td>2150000</td>\n",
       "      <td>Pitcher</td>\n",
       "      <td>Arizona Diamondbacks</td>\n",
       "    </tr>\n",
       "  </tbody>\n",
       "</table>\n",
       "</div>"
      ],
      "text/plain": [
       "                 Year    Salary Position                  Team\n",
       "Player                                                        \n",
       "A.J. Burnett     2010  16500000  Pitcher      New York Yankees\n",
       "A.J. Pierzynski  2010   6750000  Catcher     Chicago White Sox\n",
       "Aaron Cook       2010   9625000  Pitcher      Colorado Rockies\n",
       "Aaron Harang     2010  12500000  Pitcher       Cincinnati Reds\n",
       "Aaron Heilman    2010   2150000  Pitcher  Arizona Diamondbacks"
      ]
     },
     "execution_count": 15,
     "metadata": {},
     "output_type": "execute_result"
    }
   ],
   "source": [
    "# sort row labels\n",
    "\n",
    "yr2010.sort_index().head()"
   ]
  },
  {
   "cell_type": "code",
   "execution_count": 29,
   "metadata": {
    "collapsed": false
   },
   "outputs": [
    {
     "data": {
      "text/html": [
       "<div>\n",
       "<table border=\"1\" class=\"dataframe\">\n",
       "  <thead>\n",
       "    <tr style=\"text-align: right;\">\n",
       "      <th></th>\n",
       "      <th>Position</th>\n",
       "      <th>Salary</th>\n",
       "      <th>Team</th>\n",
       "      <th>Year</th>\n",
       "    </tr>\n",
       "    <tr>\n",
       "      <th>Player</th>\n",
       "      <th></th>\n",
       "      <th></th>\n",
       "      <th></th>\n",
       "      <th></th>\n",
       "    </tr>\n",
       "  </thead>\n",
       "  <tbody>\n",
       "    <tr>\n",
       "      <th>Torii Hunter</th>\n",
       "      <td>Outfielder</td>\n",
       "      <td>18500000</td>\n",
       "      <td>Los Angeles Angels</td>\n",
       "      <td>2010</td>\n",
       "    </tr>\n",
       "    <tr>\n",
       "      <th>Bobby Abreu</th>\n",
       "      <td>Outfielder</td>\n",
       "      <td>9000000</td>\n",
       "      <td>Los Angeles Angels</td>\n",
       "      <td>2010</td>\n",
       "    </tr>\n",
       "    <tr>\n",
       "      <th>Brian Fuentes</th>\n",
       "      <td>Pitcher</td>\n",
       "      <td>9000000</td>\n",
       "      <td>Los Angeles Angels</td>\n",
       "      <td>2010</td>\n",
       "    </tr>\n",
       "    <tr>\n",
       "      <th>Scott Kazmir</th>\n",
       "      <td>Pitcher</td>\n",
       "      <td>8000000</td>\n",
       "      <td>Los Angeles Angels</td>\n",
       "      <td>2010</td>\n",
       "    </tr>\n",
       "    <tr>\n",
       "      <th>Joel Pineiro</th>\n",
       "      <td>Pitcher</td>\n",
       "      <td>8000000</td>\n",
       "      <td>Los Angeles Angels</td>\n",
       "      <td>2010</td>\n",
       "    </tr>\n",
       "  </tbody>\n",
       "</table>\n",
       "</div>"
      ],
      "text/plain": [
       "                 Position    Salary                Team  Year\n",
       "Player                                                       \n",
       "Torii Hunter   Outfielder  18500000  Los Angeles Angels  2010\n",
       "Bobby Abreu    Outfielder   9000000  Los Angeles Angels  2010\n",
       "Brian Fuentes     Pitcher   9000000  Los Angeles Angels  2010\n",
       "Scott Kazmir      Pitcher   8000000  Los Angeles Angels  2010\n",
       "Joel Pineiro      Pitcher   8000000  Los Angeles Angels  2010"
      ]
     },
     "execution_count": 29,
     "metadata": {},
     "output_type": "execute_result"
    }
   ],
   "source": [
    "#sort column labels\n",
    "yr2010.sort_index(axis=1).head()"
   ]
  },
  {
   "cell_type": "code",
   "execution_count": 32,
   "metadata": {
    "collapsed": false
   },
   "outputs": [
    {
     "name": "stderr",
     "output_type": "stream",
     "text": [
      "/Users/mac/anaconda/lib/python3.5/site-packages/ipykernel/__main__.py:2: FutureWarning: order is deprecated, use sort_values(...)\n",
      "  from ipykernel import kernelapp as app\n"
     ]
    },
    {
     "data": {
      "text/plain": [
       "Player\n",
       "Alex Rodriguez    33000000\n",
       "CC Sabathia       24285714\n",
       "Derek Jeter       22600000\n",
       "Mark Teixeira     20625000\n",
       "Johan Santana     20144707\n",
       "Name: Salary, dtype: int64"
      ]
     },
     "execution_count": 32,
     "metadata": {},
     "output_type": "execute_result"
    }
   ],
   "source": [
    "# sort column values using order fields; note: the order field returns a series\n",
    "yr2010.Salary.order(ascending=False).head()"
   ]
  },
  {
   "cell_type": "code",
   "execution_count": 33,
   "metadata": {
    "collapsed": false
   },
   "outputs": [
    {
     "name": "stderr",
     "output_type": "stream",
     "text": [
      "/Users/mac/anaconda/lib/python3.5/site-packages/ipykernel/__main__.py:2: FutureWarning: by argument to sort_index is deprecated, pls use .sort_values(by=...)\n",
      "  from ipykernel import kernelapp as app\n"
     ]
    }
   ],
   "source": [
    "# sort column values using sort_index method\n",
    "sorted_yr2010 = yr2010.sort_index(ascending=False, by = ['Salary'])"
   ]
  },
  {
   "cell_type": "code",
   "execution_count": 35,
   "metadata": {
    "collapsed": false
   },
   "outputs": [
    {
     "data": {
      "text/html": [
       "<div>\n",
       "<table border=\"1\" class=\"dataframe\">\n",
       "  <thead>\n",
       "    <tr style=\"text-align: right;\">\n",
       "      <th></th>\n",
       "      <th>Year</th>\n",
       "      <th>Salary</th>\n",
       "      <th>Position</th>\n",
       "      <th>Team</th>\n",
       "    </tr>\n",
       "    <tr>\n",
       "      <th>Player</th>\n",
       "      <th></th>\n",
       "      <th></th>\n",
       "      <th></th>\n",
       "      <th></th>\n",
       "    </tr>\n",
       "  </thead>\n",
       "  <tbody>\n",
       "    <tr>\n",
       "      <th>Alex Rodriguez</th>\n",
       "      <td>2010</td>\n",
       "      <td>33000000</td>\n",
       "      <td>Third Baseman</td>\n",
       "      <td>New York Yankees</td>\n",
       "    </tr>\n",
       "    <tr>\n",
       "      <th>CC Sabathia</th>\n",
       "      <td>2010</td>\n",
       "      <td>24285714</td>\n",
       "      <td>Pitcher</td>\n",
       "      <td>New York Yankees</td>\n",
       "    </tr>\n",
       "    <tr>\n",
       "      <th>Derek Jeter</th>\n",
       "      <td>2010</td>\n",
       "      <td>22600000</td>\n",
       "      <td>Shortstop</td>\n",
       "      <td>New York Yankees</td>\n",
       "    </tr>\n",
       "    <tr>\n",
       "      <th>Mark Teixeira</th>\n",
       "      <td>2010</td>\n",
       "      <td>20625000</td>\n",
       "      <td>First Baseman</td>\n",
       "      <td>New York Yankees</td>\n",
       "    </tr>\n",
       "    <tr>\n",
       "      <th>Johan Santana</th>\n",
       "      <td>2010</td>\n",
       "      <td>20144707</td>\n",
       "      <td>Pitcher</td>\n",
       "      <td>New York Mets</td>\n",
       "    </tr>\n",
       "    <tr>\n",
       "      <th>Miguel Cabrera</th>\n",
       "      <td>2010</td>\n",
       "      <td>20000000</td>\n",
       "      <td>First Baseman</td>\n",
       "      <td>Detroit Tigers</td>\n",
       "    </tr>\n",
       "    <tr>\n",
       "      <th>Carlos Beltran</th>\n",
       "      <td>2010</td>\n",
       "      <td>19401569</td>\n",
       "      <td>Outfielder</td>\n",
       "      <td>New York Mets</td>\n",
       "    </tr>\n",
       "    <tr>\n",
       "      <th>Carlos Lee</th>\n",
       "      <td>2010</td>\n",
       "      <td>19000000</td>\n",
       "      <td>Outfielder</td>\n",
       "      <td>Houston Astros</td>\n",
       "    </tr>\n",
       "    <tr>\n",
       "      <th>Alfonso Soriano</th>\n",
       "      <td>2010</td>\n",
       "      <td>19000000</td>\n",
       "      <td>Outfielder</td>\n",
       "      <td>Chicago Cubs</td>\n",
       "    </tr>\n",
       "    <tr>\n",
       "      <th>Ryan Howard</th>\n",
       "      <td>2010</td>\n",
       "      <td>19000000</td>\n",
       "      <td>First Baseman</td>\n",
       "      <td>Philadelphia Phillies</td>\n",
       "    </tr>\n",
       "    <tr>\n",
       "      <th>Carlos Zambrano</th>\n",
       "      <td>2010</td>\n",
       "      <td>18875000</td>\n",
       "      <td>Pitcher</td>\n",
       "      <td>Chicago Cubs</td>\n",
       "    </tr>\n",
       "    <tr>\n",
       "      <th>John Lackey</th>\n",
       "      <td>2010</td>\n",
       "      <td>18700000</td>\n",
       "      <td>Pitcher</td>\n",
       "      <td>Boston Red Sox</td>\n",
       "    </tr>\n",
       "    <tr>\n",
       "      <th>Manny Ramirez</th>\n",
       "      <td>2010</td>\n",
       "      <td>18695006</td>\n",
       "      <td>Outfielder</td>\n",
       "      <td>Los Angeles Dodgers</td>\n",
       "    </tr>\n",
       "    <tr>\n",
       "      <th>Barry Zito</th>\n",
       "      <td>2010</td>\n",
       "      <td>18500000</td>\n",
       "      <td>Pitcher</td>\n",
       "      <td>San Francisco Giants</td>\n",
       "    </tr>\n",
       "    <tr>\n",
       "      <th>Torii Hunter</th>\n",
       "      <td>2010</td>\n",
       "      <td>18500000</td>\n",
       "      <td>Outfielder</td>\n",
       "      <td>Los Angeles Angels</td>\n",
       "    </tr>\n",
       "    <tr>\n",
       "      <th>Ichiro Suzuki</th>\n",
       "      <td>2010</td>\n",
       "      <td>18000000</td>\n",
       "      <td>Outfielder</td>\n",
       "      <td>Seattle Mariners</td>\n",
       "    </tr>\n",
       "    <tr>\n",
       "      <th>Magglio Ordonez</th>\n",
       "      <td>2010</td>\n",
       "      <td>17825976</td>\n",
       "      <td>Outfielder</td>\n",
       "      <td>Detroit Tigers</td>\n",
       "    </tr>\n",
       "    <tr>\n",
       "      <th>Todd Helton</th>\n",
       "      <td>2010</td>\n",
       "      <td>17775000</td>\n",
       "      <td>First Baseman</td>\n",
       "      <td>Colorado Rockies</td>\n",
       "    </tr>\n",
       "    <tr>\n",
       "      <th>Aramis Ramirez</th>\n",
       "      <td>2010</td>\n",
       "      <td>16750000</td>\n",
       "      <td>Third Baseman</td>\n",
       "      <td>Chicago Cubs</td>\n",
       "    </tr>\n",
       "    <tr>\n",
       "      <th>A.J. Burnett</th>\n",
       "      <td>2010</td>\n",
       "      <td>16500000</td>\n",
       "      <td>Pitcher</td>\n",
       "      <td>New York Yankees</td>\n",
       "    </tr>\n",
       "  </tbody>\n",
       "</table>\n",
       "</div>"
      ],
      "text/plain": [
       "                 Year    Salary       Position                   Team\n",
       "Player                                                               \n",
       "Alex Rodriguez   2010  33000000  Third Baseman       New York Yankees\n",
       "CC Sabathia      2010  24285714        Pitcher       New York Yankees\n",
       "Derek Jeter      2010  22600000      Shortstop       New York Yankees\n",
       "Mark Teixeira    2010  20625000  First Baseman       New York Yankees\n",
       "Johan Santana    2010  20144707        Pitcher          New York Mets\n",
       "Miguel Cabrera   2010  20000000  First Baseman         Detroit Tigers\n",
       "Carlos Beltran   2010  19401569     Outfielder          New York Mets\n",
       "Carlos Lee       2010  19000000     Outfielder         Houston Astros\n",
       "Alfonso Soriano  2010  19000000     Outfielder           Chicago Cubs\n",
       "Ryan Howard      2010  19000000  First Baseman  Philadelphia Phillies\n",
       "Carlos Zambrano  2010  18875000        Pitcher           Chicago Cubs\n",
       "John Lackey      2010  18700000        Pitcher         Boston Red Sox\n",
       "Manny Ramirez    2010  18695006     Outfielder    Los Angeles Dodgers\n",
       "Barry Zito       2010  18500000        Pitcher   San Francisco Giants\n",
       "Torii Hunter     2010  18500000     Outfielder     Los Angeles Angels\n",
       "Ichiro Suzuki    2010  18000000     Outfielder       Seattle Mariners\n",
       "Magglio Ordonez  2010  17825976     Outfielder         Detroit Tigers\n",
       "Todd Helton      2010  17775000  First Baseman       Colorado Rockies\n",
       "Aramis Ramirez   2010  16750000  Third Baseman           Chicago Cubs\n",
       "A.J. Burnett     2010  16500000        Pitcher       New York Yankees"
      ]
     },
     "execution_count": 35,
     "metadata": {},
     "output_type": "execute_result"
    }
   ],
   "source": [
    "sorted_yr2010.head(20)"
   ]
  },
  {
   "cell_type": "code",
   "execution_count": 36,
   "metadata": {
    "collapsed": false
   },
   "outputs": [
    {
     "name": "stderr",
     "output_type": "stream",
     "text": [
      "/Users/mac/anaconda/lib/python3.5/site-packages/ipykernel/__main__.py:1: FutureWarning: by argument to sort_index is deprecated, pls use .sort_values(by=...)\n",
      "  if __name__ == '__main__':\n"
     ]
    },
    {
     "data": {
      "text/html": [
       "<div>\n",
       "<table border=\"1\" class=\"dataframe\">\n",
       "  <thead>\n",
       "    <tr style=\"text-align: right;\">\n",
       "      <th></th>\n",
       "      <th>Year</th>\n",
       "      <th>Salary</th>\n",
       "      <th>Position</th>\n",
       "      <th>Team</th>\n",
       "    </tr>\n",
       "    <tr>\n",
       "      <th>Player</th>\n",
       "      <th></th>\n",
       "      <th></th>\n",
       "      <th></th>\n",
       "      <th></th>\n",
       "    </tr>\n",
       "  </thead>\n",
       "  <tbody>\n",
       "    <tr>\n",
       "      <th>Alex Rodriguez</th>\n",
       "      <td>2010</td>\n",
       "      <td>33000000</td>\n",
       "      <td>Third Baseman</td>\n",
       "      <td>New York Yankees</td>\n",
       "    </tr>\n",
       "    <tr>\n",
       "      <th>CC Sabathia</th>\n",
       "      <td>2010</td>\n",
       "      <td>24285714</td>\n",
       "      <td>Pitcher</td>\n",
       "      <td>New York Yankees</td>\n",
       "    </tr>\n",
       "    <tr>\n",
       "      <th>Derek Jeter</th>\n",
       "      <td>2010</td>\n",
       "      <td>22600000</td>\n",
       "      <td>Shortstop</td>\n",
       "      <td>New York Yankees</td>\n",
       "    </tr>\n",
       "    <tr>\n",
       "      <th>Mark Teixeira</th>\n",
       "      <td>2010</td>\n",
       "      <td>20625000</td>\n",
       "      <td>First Baseman</td>\n",
       "      <td>New York Yankees</td>\n",
       "    </tr>\n",
       "    <tr>\n",
       "      <th>Johan Santana</th>\n",
       "      <td>2010</td>\n",
       "      <td>20144707</td>\n",
       "      <td>Pitcher</td>\n",
       "      <td>New York Mets</td>\n",
       "    </tr>\n",
       "    <tr>\n",
       "      <th>Miguel Cabrera</th>\n",
       "      <td>2010</td>\n",
       "      <td>20000000</td>\n",
       "      <td>First Baseman</td>\n",
       "      <td>Detroit Tigers</td>\n",
       "    </tr>\n",
       "    <tr>\n",
       "      <th>Carlos Beltran</th>\n",
       "      <td>2010</td>\n",
       "      <td>19401569</td>\n",
       "      <td>Outfielder</td>\n",
       "      <td>New York Mets</td>\n",
       "    </tr>\n",
       "    <tr>\n",
       "      <th>Alfonso Soriano</th>\n",
       "      <td>2010</td>\n",
       "      <td>19000000</td>\n",
       "      <td>Outfielder</td>\n",
       "      <td>Chicago Cubs</td>\n",
       "    </tr>\n",
       "    <tr>\n",
       "      <th>Carlos Lee</th>\n",
       "      <td>2010</td>\n",
       "      <td>19000000</td>\n",
       "      <td>Outfielder</td>\n",
       "      <td>Houston Astros</td>\n",
       "    </tr>\n",
       "    <tr>\n",
       "      <th>Ryan Howard</th>\n",
       "      <td>2010</td>\n",
       "      <td>19000000</td>\n",
       "      <td>First Baseman</td>\n",
       "      <td>Philadelphia Phillies</td>\n",
       "    </tr>\n",
       "    <tr>\n",
       "      <th>Carlos Zambrano</th>\n",
       "      <td>2010</td>\n",
       "      <td>18875000</td>\n",
       "      <td>Pitcher</td>\n",
       "      <td>Chicago Cubs</td>\n",
       "    </tr>\n",
       "    <tr>\n",
       "      <th>John Lackey</th>\n",
       "      <td>2010</td>\n",
       "      <td>18700000</td>\n",
       "      <td>Pitcher</td>\n",
       "      <td>Boston Red Sox</td>\n",
       "    </tr>\n",
       "    <tr>\n",
       "      <th>Manny Ramirez</th>\n",
       "      <td>2010</td>\n",
       "      <td>18695006</td>\n",
       "      <td>Outfielder</td>\n",
       "      <td>Los Angeles Dodgers</td>\n",
       "    </tr>\n",
       "    <tr>\n",
       "      <th>Torii Hunter</th>\n",
       "      <td>2010</td>\n",
       "      <td>18500000</td>\n",
       "      <td>Outfielder</td>\n",
       "      <td>Los Angeles Angels</td>\n",
       "    </tr>\n",
       "    <tr>\n",
       "      <th>Barry Zito</th>\n",
       "      <td>2010</td>\n",
       "      <td>18500000</td>\n",
       "      <td>Pitcher</td>\n",
       "      <td>San Francisco Giants</td>\n",
       "    </tr>\n",
       "    <tr>\n",
       "      <th>Ichiro Suzuki</th>\n",
       "      <td>2010</td>\n",
       "      <td>18000000</td>\n",
       "      <td>Outfielder</td>\n",
       "      <td>Seattle Mariners</td>\n",
       "    </tr>\n",
       "    <tr>\n",
       "      <th>Magglio Ordonez</th>\n",
       "      <td>2010</td>\n",
       "      <td>17825976</td>\n",
       "      <td>Outfielder</td>\n",
       "      <td>Detroit Tigers</td>\n",
       "    </tr>\n",
       "    <tr>\n",
       "      <th>Todd Helton</th>\n",
       "      <td>2010</td>\n",
       "      <td>17775000</td>\n",
       "      <td>First Baseman</td>\n",
       "      <td>Colorado Rockies</td>\n",
       "    </tr>\n",
       "    <tr>\n",
       "      <th>Aramis Ramirez</th>\n",
       "      <td>2010</td>\n",
       "      <td>16750000</td>\n",
       "      <td>Third Baseman</td>\n",
       "      <td>Chicago Cubs</td>\n",
       "    </tr>\n",
       "    <tr>\n",
       "      <th>A.J. Burnett</th>\n",
       "      <td>2010</td>\n",
       "      <td>16500000</td>\n",
       "      <td>Pitcher</td>\n",
       "      <td>New York Yankees</td>\n",
       "    </tr>\n",
       "  </tbody>\n",
       "</table>\n",
       "</div>"
      ],
      "text/plain": [
       "                 Year    Salary       Position                   Team\n",
       "Player                                                               \n",
       "Alex Rodriguez   2010  33000000  Third Baseman       New York Yankees\n",
       "CC Sabathia      2010  24285714        Pitcher       New York Yankees\n",
       "Derek Jeter      2010  22600000      Shortstop       New York Yankees\n",
       "Mark Teixeira    2010  20625000  First Baseman       New York Yankees\n",
       "Johan Santana    2010  20144707        Pitcher          New York Mets\n",
       "Miguel Cabrera   2010  20000000  First Baseman         Detroit Tigers\n",
       "Carlos Beltran   2010  19401569     Outfielder          New York Mets\n",
       "Alfonso Soriano  2010  19000000     Outfielder           Chicago Cubs\n",
       "Carlos Lee       2010  19000000     Outfielder         Houston Astros\n",
       "Ryan Howard      2010  19000000  First Baseman  Philadelphia Phillies\n",
       "Carlos Zambrano  2010  18875000        Pitcher           Chicago Cubs\n",
       "John Lackey      2010  18700000        Pitcher         Boston Red Sox\n",
       "Manny Ramirez    2010  18695006     Outfielder    Los Angeles Dodgers\n",
       "Torii Hunter     2010  18500000     Outfielder     Los Angeles Angels\n",
       "Barry Zito       2010  18500000        Pitcher   San Francisco Giants\n",
       "Ichiro Suzuki    2010  18000000     Outfielder       Seattle Mariners\n",
       "Magglio Ordonez  2010  17825976     Outfielder         Detroit Tigers\n",
       "Todd Helton      2010  17775000  First Baseman       Colorado Rockies\n",
       "Aramis Ramirez   2010  16750000  Third Baseman           Chicago Cubs\n",
       "A.J. Burnett     2010  16500000        Pitcher       New York Yankees"
      ]
     },
     "execution_count": 36,
     "metadata": {},
     "output_type": "execute_result"
    }
   ],
   "source": [
    "yr2010.sort_index(ascending=[False,True], by=['Salary', 'Team']).head(20)"
   ]
  },
  {
   "cell_type": "code",
   "execution_count": 37,
   "metadata": {
    "collapsed": false
   },
   "outputs": [
    {
     "name": "stderr",
     "output_type": "stream",
     "text": [
      "/Users/mac/anaconda/lib/python3.5/site-packages/ipykernel/__main__.py:2: FutureWarning: order is deprecated, use sort_values(...)\n",
      "  from ipykernel import kernelapp as app\n"
     ]
    }
   ],
   "source": [
    "# Top 10 highest paid players \n",
    "top10 = yr2010.Salary.order(ascending=False).head()"
   ]
  },
  {
   "cell_type": "code",
   "execution_count": 38,
   "metadata": {
    "collapsed": false
   },
   "outputs": [
    {
     "data": {
      "text/plain": [
       "pandas.core.series.Series"
      ]
     },
     "execution_count": 38,
     "metadata": {},
     "output_type": "execute_result"
    }
   ],
   "source": [
    "type(top10)"
   ]
  },
  {
   "cell_type": "code",
   "execution_count": 59,
   "metadata": {
    "collapsed": false
   },
   "outputs": [
    {
     "data": {
      "text/plain": [
       "<matplotlib.legend.Legend at 0x10c801ef0>"
      ]
     },
     "execution_count": 59,
     "metadata": {},
     "output_type": "execute_result"
    },
    {
     "data": {
      "image/png": "[encoded data removed]",
      "text/plain": [
       "<matplotlib.figure.Figure at 0x10c801eb8>"
      ]
     },
     "metadata": {},
     "output_type": "display_data"
    }
   ],
   "source": [
    "# plot highest paid \n",
    "plt.figure()\n",
    "top10.plot(label='Salaries')\n",
    "plt.xticks(rotation='vertical')\n",
    "plt.legend()"
   ]
  }
 ],
 "metadata": {
  "kernelspec": {
   "display_name": "Python 3",
   "language": "python",
   "name": "python3"
  },
  "language_info": {
   "codemirror_mode": {
    "name": "ipython",
    "version": 3
   },
   "file_extension": ".py",
   "mimetype": "text/x-python",
   "name": "python",
   "nbconvert_exporter": "python",
   "pygments_lexer": "ipython3",
   "version": "3.5.1"
  }
 },
 "nbformat": 4,
 "nbformat_minor": 0
}
